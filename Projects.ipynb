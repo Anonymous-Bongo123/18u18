{
  "nbformat": 4,
  "nbformat_minor": 0,
  "metadata": {
    "colab": {
      "provenance": [],
      "authorship_tag": "ABX9TyM4dQRZCy+hQH9ThEZSVSd9",
      "include_colab_link": true
    },
    "kernelspec": {
      "name": "python3",
      "display_name": "Python 3"
    },
    "language_info": {
      "name": "python"
    }
  },
  "cells": [
    {
      "cell_type": "markdown",
      "metadata": {
        "id": "view-in-github",
        "colab_type": "text"
      },
      "source": [
        "<a href=\"https://colab.research.google.com/github/Anonymous-Bongo123/18u18/blob/main/Projects.ipynb\" target=\"_parent\"><img src=\"https://colab.research.google.com/assets/colab-badge.svg\" alt=\"Open In Colab\"/></a>"
      ]
    },
    {
      "cell_type": "code",
      "execution_count": null,
      "metadata": {
        "id": "7s0aNhv6ZdKf",
        "colab": {
          "base_uri": "https://localhost:8080/",
          "height": 397
        },
        "outputId": "48ca614b-29fc-4833-d7d3-bf786fd91b55"
      },
      "outputs": [
        {
          "output_type": "stream",
          "name": "stdout",
          "text": [
            "Enter lower range limit: "
          ]
        },
        {
          "output_type": "error",
          "ename": "KeyboardInterrupt",
          "evalue": "ignored",
          "traceback": [
            "\u001b[0;31m---------------------------------------------------------------------------\u001b[0m",
            "\u001b[0;31mKeyboardInterrupt\u001b[0m                         Traceback (most recent call last)",
            "\u001b[0;32m<ipython-input-13-b9455ef56f21>\u001b[0m in \u001b[0;36m<module>\u001b[0;34m\u001b[0m\n\u001b[1;32m      1\u001b[0m \u001b[0mprint\u001b[0m\u001b[0;34m(\u001b[0m\u001b[0;34m\"Enter lower range limit:\"\u001b[0m\u001b[0;34m,\u001b[0m\u001b[0mend\u001b[0m\u001b[0;34m=\u001b[0m\u001b[0;34m\" \"\u001b[0m\u001b[0;34m)\u001b[0m\u001b[0;34m\u001b[0m\u001b[0;34m\u001b[0m\u001b[0m\n\u001b[0;32m----> 2\u001b[0;31m \u001b[0mlower_range_limit\u001b[0m\u001b[0;34m=\u001b[0m\u001b[0minput\u001b[0m\u001b[0;34m(\u001b[0m\u001b[0;34m)\u001b[0m\u001b[0;34m\u001b[0m\u001b[0;34m\u001b[0m\u001b[0m\n\u001b[0m\u001b[1;32m      3\u001b[0m \u001b[0mlower_range_limit\u001b[0m\u001b[0;34m=\u001b[0m\u001b[0;34m(\u001b[0m\u001b[0mint\u001b[0m\u001b[0;34m(\u001b[0m\u001b[0mlower_range_limit\u001b[0m\u001b[0;34m)\u001b[0m\u001b[0;34m)\u001b[0m\u001b[0;34m\u001b[0m\u001b[0;34m\u001b[0m\u001b[0m\n\u001b[1;32m      4\u001b[0m \u001b[0mprint\u001b[0m\u001b[0;34m(\u001b[0m\u001b[0;34m\"Enter higher range limit:\"\u001b[0m\u001b[0;34m,\u001b[0m\u001b[0mend\u001b[0m\u001b[0;34m=\u001b[0m\u001b[0;34m\" \"\u001b[0m\u001b[0;34m)\u001b[0m\u001b[0;34m\u001b[0m\u001b[0;34m\u001b[0m\u001b[0m\n\u001b[1;32m      5\u001b[0m \u001b[0mhigher_range_limit\u001b[0m\u001b[0;34m=\u001b[0m\u001b[0minput\u001b[0m\u001b[0;34m(\u001b[0m\u001b[0;34m)\u001b[0m\u001b[0;34m\u001b[0m\u001b[0;34m\u001b[0m\u001b[0m\n",
            "\u001b[0;32m/usr/local/lib/python3.8/dist-packages/ipykernel/kernelbase.py\u001b[0m in \u001b[0;36mraw_input\u001b[0;34m(self, prompt)\u001b[0m\n\u001b[1;32m    858\u001b[0m                 \u001b[0;34m\"raw_input was called, but this frontend does not support input requests.\"\u001b[0m\u001b[0;34m\u001b[0m\u001b[0;34m\u001b[0m\u001b[0m\n\u001b[1;32m    859\u001b[0m             )\n\u001b[0;32m--> 860\u001b[0;31m         return self._input_request(str(prompt),\n\u001b[0m\u001b[1;32m    861\u001b[0m             \u001b[0mself\u001b[0m\u001b[0;34m.\u001b[0m\u001b[0m_parent_ident\u001b[0m\u001b[0;34m,\u001b[0m\u001b[0;34m\u001b[0m\u001b[0;34m\u001b[0m\u001b[0m\n\u001b[1;32m    862\u001b[0m             \u001b[0mself\u001b[0m\u001b[0;34m.\u001b[0m\u001b[0m_parent_header\u001b[0m\u001b[0;34m,\u001b[0m\u001b[0;34m\u001b[0m\u001b[0;34m\u001b[0m\u001b[0m\n",
            "\u001b[0;32m/usr/local/lib/python3.8/dist-packages/ipykernel/kernelbase.py\u001b[0m in \u001b[0;36m_input_request\u001b[0;34m(self, prompt, ident, parent, password)\u001b[0m\n\u001b[1;32m    902\u001b[0m             \u001b[0;32mexcept\u001b[0m \u001b[0mKeyboardInterrupt\u001b[0m\u001b[0;34m:\u001b[0m\u001b[0;34m\u001b[0m\u001b[0;34m\u001b[0m\u001b[0m\n\u001b[1;32m    903\u001b[0m                 \u001b[0;31m# re-raise KeyboardInterrupt, to truncate traceback\u001b[0m\u001b[0;34m\u001b[0m\u001b[0;34m\u001b[0m\u001b[0;34m\u001b[0m\u001b[0m\n\u001b[0;32m--> 904\u001b[0;31m                 \u001b[0;32mraise\u001b[0m \u001b[0mKeyboardInterrupt\u001b[0m\u001b[0;34m(\u001b[0m\u001b[0;34m\"Interrupted by user\"\u001b[0m\u001b[0;34m)\u001b[0m \u001b[0;32mfrom\u001b[0m \u001b[0;32mNone\u001b[0m\u001b[0;34m\u001b[0m\u001b[0;34m\u001b[0m\u001b[0m\n\u001b[0m\u001b[1;32m    905\u001b[0m             \u001b[0;32mexcept\u001b[0m \u001b[0mException\u001b[0m \u001b[0;32mas\u001b[0m \u001b[0me\u001b[0m\u001b[0;34m:\u001b[0m\u001b[0;34m\u001b[0m\u001b[0;34m\u001b[0m\u001b[0m\n\u001b[1;32m    906\u001b[0m                 \u001b[0mself\u001b[0m\u001b[0;34m.\u001b[0m\u001b[0mlog\u001b[0m\u001b[0;34m.\u001b[0m\u001b[0mwarning\u001b[0m\u001b[0;34m(\u001b[0m\u001b[0;34m\"Invalid Message:\"\u001b[0m\u001b[0;34m,\u001b[0m \u001b[0mexc_info\u001b[0m\u001b[0;34m=\u001b[0m\u001b[0;32mTrue\u001b[0m\u001b[0;34m)\u001b[0m\u001b[0;34m\u001b[0m\u001b[0;34m\u001b[0m\u001b[0m\n",
            "\u001b[0;31mKeyboardInterrupt\u001b[0m: Interrupted by user"
          ]
        }
      ],
      "source": [
        "\n",
        "print(\"Enter lower range limit:\",end=\" \") \n",
        "lower_range_limit=input()\n",
        "lower_range_limit=(int(lower_range_limit))\n",
        "print(\"Enter higher range limit:\",end=\" \")\n",
        "higher_range_limit=input()\n",
        "higher_range_limit=int(higher_range_limit)\n",
        "print(\"Enter number to be divided by:\",end=\" \")\n",
        "dividend=input()\n",
        "dividend=int(dividend)\n",
        "n = dividend\n",
        "for i in range(lower_range_limit, higher_range_limit+1):\n",
        "  if(i%n==0):\n",
        "    print(i)"
      ]
    },
    {
      "cell_type": "code",
      "source": [
        "class MovieReview:\n",
        "  def __init__(self, movie, story, actors, music):\n",
        "    self.movie_name = movie\n",
        "    self.story_rating = story\n",
        "    self.actor_rating = actors\n",
        "    self.music_rating = music\n",
        "    self.avg = int((self.story_rating + self.actor_rating + self.music_rating)/3)\n",
        "    self.myrating = {\n",
        "        \"Movie Name\": self.movie_name,\n",
        "        \"Story Rating\": self.story_rating,\n",
        "        \"Actor Rating\": self.actor_rating,\n",
        "        \"Music Rating\": self.music_rating,\n",
        "        \"Avg Rating\": self.avg,}\n",
        "\n",
        "  def add_movie_ratings(self, movie_list):\n",
        "    movie_list.append(self.myrating)\n",
        "  def avg_star_ratings(self, movie_list):\n",
        "    for movie in movie_list:\n",
        "      if (movie[\"Avg Rating\"] == 1):\n",
        "        print(\"Thanks for the response, you rated movie with *\")\n",
        "        print(movie)\n",
        "      elif (movie[\"Avg Rating\"] == 2):\n",
        "        print(\"Thanks for the response, you rated movie with 2*\")\n",
        "        print(movie)\n",
        "      elif (movie[\"Avg Rating\"] == 3):\n",
        "        print(\"Thanks for the response, you rated movie with 3*\")\n",
        "        print(movie)\n",
        "      elif (movie[\"Avg Rating\"] == 4):\n",
        "        print(\"Thanks for the response, you rated movie with 4*\")\n",
        "        print(movie)\n",
        "      elif (movie[\"Avg Rating\"] == 5):\n",
        "        print(\"Thanks for the response, you rated movie with 5*\")\n",
        "        print(movie)"
      ],
      "metadata": {
        "id": "ChtW2HdRP5YZ"
      },
      "execution_count": null,
      "outputs": []
    },
    {
      "cell_type": "code",
      "source": [
        "moviereviews = []\n",
        "review2 = MovieReview(\"Beautiful Sound\", 5, 5, 5)\n",
        "review2.add_movie_ratings(moviereviews)\n",
        "review2.avg_star_ratings(moviereviews)"
      ],
      "metadata": {
        "colab": {
          "base_uri": "https://localhost:8080/"
        },
        "id": "JbFo77psBS74",
        "outputId": "2086eff8-a9b0-4e30-9a9d-b4e77f8bd338"
      },
      "execution_count": null,
      "outputs": [
        {
          "output_type": "stream",
          "name": "stdout",
          "text": [
            "Thanks for the response, you rated movie with 5*\n",
            "{'Movie Name': 'Beautiful Sound', 'Story Rating': 5, 'Actor Rating': 5, 'Music Rating': 5, 'Avg Rating': 5}\n"
          ]
        }
      ]
    },
    {
      "cell_type": "code",
      "source": [
        "import random\n",
        "print (\"Press y to start, n to exit\")\n",
        "dice_answer = input()\n",
        "roll = random.randint(1, 6)\n",
        "while (dice_answer==\"y\"):\n",
        "  if (roll==1):\n",
        "    print(         1)\n",
        "    dice_answer = input()\n",
        "    roll = random.randint(1, 6)\n",
        "  elif (roll==2):\n",
        "    print(         2)\n",
        "    dice_answer = input()\n",
        "    roll = random.randint(1, 6)\n",
        "  elif (roll==3):\n",
        "    print(         3)\n",
        "    dice_answer = input()\n",
        "    roll = random.randint(1, 6)\n",
        "  elif (roll==4):\n",
        "    print(         4)\n",
        "    dice_answer = input()\n",
        "    roll = random.randint(1, 6)\n",
        "  elif (roll==5):\n",
        "    print(         5)\n",
        "    dice_answer = input()\n",
        "    roll = random.randint(1, 6)\n",
        "  elif (roll==6):\n",
        "    print(         6)\n",
        "    dice_answer = input()\n",
        "    roll = random.randint(1, 6)\n",
        "  else:\n",
        "    exit()\n",
        "if (dice_answer==\"n\"):\n",
        "    print (\"Thanks for playing!\")\n"
      ],
      "metadata": {
        "colab": {
          "base_uri": "https://localhost:8080/"
        },
        "id": "R_mCiPAQvUKR",
        "outputId": "7fdc07ec-33a2-464e-b9e0-c7e99f8052d8"
      },
      "execution_count": null,
      "outputs": [
        {
          "output_type": "stream",
          "name": "stdout",
          "text": [
            "Press y to start, n to exit\n",
            "y\n",
            "6\n",
            "y\n",
            "4\n",
            "y\n",
            "4\n",
            "y\n",
            "4\n",
            "y\n",
            "3\n",
            "y\n",
            "5\n",
            "y\n",
            "6\n",
            "y\n",
            "5\n",
            "y\n",
            "5\n",
            "y\n",
            "5\n",
            "y\n",
            "6\n"
          ]
        }
      ]
    }
  ]
}